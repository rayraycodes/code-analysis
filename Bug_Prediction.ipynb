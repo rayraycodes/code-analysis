{
 "cells": [
  {
   "cell_type": "code",
   "execution_count": 2,
   "metadata": {
    "id": "XsrVFRv2hMU7"
   },
   "outputs": [],
   "source": [
    "import pandas as pd\n",
    "from sklearn.tree import DecisionTreeClassifier\n",
    "from sklearn.preprocessing import StandardScaler\n",
    "from sklearn.pipeline import make_pipeline\n",
    "from sklearn.model_selection import train_test_split\n",
    "import numpy as np\n",
    "import matplotlib.pyplot as plt"
   ]
  },
  {
   "cell_type": "code",
   "execution_count": 3,
   "metadata": {
    "colab": {
     "base_uri": "https://localhost:8080/"
    },
    "id": "yOMjoEtmhyVa",
    "outputId": "f11a170c-d22f-4b47-de20-8bf9170da89e"
   },
   "outputs": [],
   "source": [
    "datasets=[]\n",
    "for i in range(0,55):\n",
    "  df=pd.read_csv(f'C://Users//rishi//OneDrive//Documents//ProcessedDatasets//dataset{i}.csv')\n",
    "  datasets.append(df)"
   ]
  },
  {
   "cell_type": "code",
   "execution_count": 4,
   "metadata": {
    "colab": {
     "base_uri": "https://localhost:8080/"
    },
    "id": "EJwUx_o2AsCI",
    "outputId": "55b12bc8-1c69-4dad-d9a9-08cfb27c044e"
   },
   "outputs": [],
   "source": [
    "for i in range(len(datasets)):\n",
    "  datasets[i]=datasets[i].drop(['filename','Unnamed: 0'],axis=1)"
   ]
  },
  {
   "cell_type": "code",
   "execution_count": 5,
   "metadata": {
    "colab": {
     "base_uri": "https://localhost:8080/"
    },
    "id": "dzmtK9alBGWW",
    "outputId": "f46d9e7c-4399-4ff4-cb88-cd3810c3cea8"
   },
   "outputs": [],
   "source": [
    "models=[]\n",
    "for i in range(len(datasets)):\n",
    "  models.append(make_pipeline(StandardScaler(), DecisionTreeClassifier()))"
   ]
  },
  {
   "cell_type": "code",
   "execution_count": 6,
   "metadata": {
    "colab": {
     "base_uri": "https://localhost:8080/"
    },
    "id": "PYkvlFJ_hq73",
    "outputId": "88bb35bb-07ec-415f-f1ec-8aad99545f20"
   },
   "outputs": [],
   "source": [
    "X_train=[]\n",
    "y_train=[]\n",
    "X_val=[]\n",
    "y_val=[]"
   ]
  },
  {
   "cell_type": "code",
   "execution_count": 7,
   "metadata": {
    "colab": {
     "base_uri": "https://localhost:8080/"
    },
    "id": "kJu4PZr3iJVJ",
    "outputId": "9cdf6dc6-8aa4-4796-8614-ccc08f23e1cd"
   },
   "outputs": [],
   "source": [
    "for i in range(len(datasets)):\n",
    "  X=datasets[i].drop(['Bug Present'],axis=1).values\n",
    "  y=datasets[i]['Bug Present'].values\n",
    "  x_tr1,x_te1,y_tr1,y_te1=train_test_split(X,y,test_size=0.2,random_state=42)\n",
    "  X_train.append(x_tr1)\n",
    "  y_train.append(y_tr1)\n",
    "  X_val.append(x_te1)\n",
    "  y_val.append(y_te1)"
   ]
  },
  {
   "cell_type": "code",
   "execution_count": 8,
   "metadata": {
    "colab": {
     "base_uri": "https://localhost:8080/"
    },
    "id": "Fsbkhzh7VGrT",
    "outputId": "333d6168-60dd-4885-fd3c-2bf62632a452"
   },
   "outputs": [],
   "source": [
    "for i in range(len(datasets)):\n",
    "  models[i].fit(X_train[i],y_train[i])"
   ]
  },
  {
   "cell_type": "code",
   "execution_count": 9,
   "metadata": {
    "colab": {
     "base_uri": "https://localhost:8080/"
    },
    "id": "8SNpj_NcFfX6",
    "outputId": "622bb6cb-f7f9-4124-d732-61f0e4f01d8a"
   },
   "outputs": [],
   "source": [
    "y_Pred=[]\n",
    "for i in range(len(datasets)):\n",
    "  y_Pred.append(models[i].predict(X_val[i]))"
   ]
  },
  {
   "cell_type": "code",
   "execution_count": 10,
   "metadata": {
    "colab": {
     "base_uri": "https://localhost:8080/"
    },
    "id": "UlsHYaRLrdXT",
    "outputId": "b6ac1972-631f-44bb-8f24-f730048d3628"
   },
   "outputs": [],
   "source": [
    "from sklearn.metrics import accuracy_score"
   ]
  },
  {
   "cell_type": "code",
   "execution_count": 11,
   "metadata": {
    "colab": {
     "base_uri": "https://localhost:8080/"
    },
    "id": "LbsnzMz2reiG",
    "outputId": "07991c0e-f682-407f-9f2a-a3d007703af3"
   },
   "outputs": [
    {
     "name": "stdout",
     "output_type": "stream",
     "text": [
      "Accuracy on Validation Set:  71.38176404048998 %\n"
     ]
    }
   ],
   "source": [
    "accuracy=[]\n",
    "for i in range(len(datasets)):\n",
    "  accuracy.append(accuracy_score(y_Pred[i],y_val[i]))\n",
    "print(\"Accuracy on Validation Set: \",sum(accuracy)/len(datasets)*100,\"%\")"
   ]
  },
  {
   "cell_type": "code",
   "execution_count": 12,
   "metadata": {
    "colab": {
     "base_uri": "https://localhost:8080/"
    },
    "id": "MmS_guQaNRnI",
    "outputId": "74ac509b-b4e4-42b3-9832-769a18190995"
   },
   "outputs": [
    {
     "name": "stdout",
     "output_type": "stream",
     "text": [
      "54\n"
     ]
    }
   ],
   "source": [
    "print(i)\n",
    "test_set=pd.read_csv(f'C://Users//rishi//OneDrive//Documents//ProcessedDatasets//dataset56.csv')\n",
    "test_set=test_set.drop(['filename','Unnamed: 0'],axis=1)\n",
    "X_test,y_test=test_set.drop(['Bug Present'],axis=1).values,test_set['Bug Present'].values\n",
    "y_test_pred=[]\n",
    "for i in range(len(datasets)):\n",
    "  y_pred=models[i].predict(X_test)\n",
    "  y_test_pred.append(y_pred)"
   ]
  },
  {
   "cell_type": "code",
   "execution_count": 13,
   "metadata": {
    "colab": {
     "base_uri": "https://localhost:8080/"
    },
    "id": "7NZFhi0IO1LP",
    "outputId": "83444f4d-15a4-4b39-ef89-e5e43db5c2ea"
   },
   "outputs": [],
   "source": [
    "result = []\n",
    "y_test_pred=np.array(y_test_pred)\n",
    "for column in y_test_pred.T:\n",
    "    most_common = np.bincount(column).argmax()\n",
    "    result.append(most_common)\n",
    "\n",
    "result = np.array(result)"
   ]
  },
  {
   "cell_type": "code",
   "execution_count": 14,
   "metadata": {
    "colab": {
     "base_uri": "https://localhost:8080/"
    },
    "id": "aGZ98Cj4Wm0B",
    "outputId": "c78b5538-54bb-4785-f86e-440de331dc50"
   },
   "outputs": [
    {
     "name": "stdout",
     "output_type": "stream",
     "text": [
      "Accuracy on Test Set:  86.57051042522981\n"
     ]
    }
   ],
   "source": [
    "print(\"Accuracy on Test Set: \", accuracy_score(result,y_test)*100)"
   ]
  },
  {
   "cell_type": "code",
   "execution_count": null,
   "metadata": {
    "id": "njFijn8Tsi_H"
   },
   "outputs": [],
   "source": []
  }
 ],
 "metadata": {
  "colab": {
   "gpuType": "T4",
   "provenance": []
  },
  "kernelspec": {
   "display_name": "Python 3 (ipykernel)",
   "language": "python",
   "name": "python3"
  },
  "language_info": {
   "codemirror_mode": {
    "name": "ipython",
    "version": 3
   },
   "file_extension": ".py",
   "mimetype": "text/x-python",
   "name": "python",
   "nbconvert_exporter": "python",
   "pygments_lexer": "ipython3",
   "version": "3.12.7"
  }
 },
 "nbformat": 4,
 "nbformat_minor": 4
}
